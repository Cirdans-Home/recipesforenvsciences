{
 "cells": [
  {
   "cell_type": "markdown",
   "id": "1e6aa70e",
   "metadata": {},
   "source": [
    "# Fitting data to models\n",
    "\n",
    "Parametric fitting involves finding coefficients (parameters) for one or more\n",
    "models that you want to fit to some experimental data.\n",
    "\n",
    "In general we assume data to be statistical in nature, this means that we can\n",
    "assume it to be divided into two components:\n",
    "```{math}\n",
    "\\text{``data''}\\;=\\;\\text{``true value''}\\;+\\;\\text{``statistical error''},\n",
    "```\n",
    "the other fundamental part is that we are assuming the deterministic component\n",
    "to be given by a model for which the random component is described as an error\n",
    "associated with the data:\n",
    "```{math}\n",
    "\\text{``data''}\\;=\\;\\text{``model''}\\;+\\;\\text{``error''}.\n",
    "```\n",
    "The model is a function of the independent data (predictor) and one or more\n",
    "coefficients, that are the quantities we want to compute. The error represents\n",
    "random variations in the data. For doing a mathematical analysis one usually\n",
    "assumes that they follow a specific probability distribution - in most of the\n",
    "case Gaussian. The source of the error can be varied, but it is always present,\n",
    "errors are bound to happen when you are dealing with measured data.\n",
    "\n",
    "## Least square approach\n",
    "\n",
    "To write down formally the idea we have discussed we can express a general\n",
    "**nonlinear regression model** as\n",
    "```{math}\n",
    "Y_n = f(x_n, \\theta) + Z_n,\n",
    "```\n",
    "where $f$ is the model we want to *fit*, $x_n$ is a vector of the associated\n",
    "variable, $Y_n$ are the attained measurements, $\\theta$ is a vector of\n",
    "parameters defining the model, and $Z_n$ is the error term.\n",
    "\n",
    "To be more practical and less formal, let us start with the tale of a certain\n",
    "Count Rumford of Bavaria (see {cite}`MR1060528`). He was one of the early experimenters on the physics\n",
    "of heat. In 1798 he performed the following experiment, he heated a cannon barrel\n",
    "to a temperature of $130^\\circ\\,{\\rm F}$ and then let it cool to the room\n",
    "temperature of $60^\\circ\\,{\\rm F}$ while taking measure of temperature at\n",
    "different time intervals:\n",
    "```{code} matlab\n",
    "data = [ 4 126 % Time (min) and Temperature (°F)\n",
    "  5 125\n",
    "  7 123\n",
    "  12 120\n",
    "  14 119\n",
    "  16 118\n",
    "  20 116\n",
    "  24 115\n",
    "  28 114\n",
    "  31 113\n",
    "  34 112\n",
    "  37.5 111\n",
    "  41 110\n",
    "]\n",
    "```\n",
    "To interpret these data we can use Newton's law of cooling, which states that\n",
    "```{math}\n",
    "\\frac{\\partial f}{\\partial t} = - \\theta(f-T_0),\n",
    "```\n",
    "where $T_0$ is the ambient temperature. This is one of the few differential\n",
    "equations we actually know how to solve, and indeed we can express\n",
    "```{math}\n",
    "f(t,\\theta) = T_0 + (T_f - T_0) e^{-\\theta t} = 60 + 70 e^{-\\theta t}.\n",
    "```\n",
    "This model now depends *nonlinearly* on just one parameter $\\theta$ that is\n",
    "the one that we have to fit to our data. Mathematically this means that we\n",
    "want to find $\\theta$ such that\n",
    "```{math}\n",
    "  \\min \\sum_{j=1}^{\\text{# of data}}|f(t_j,\\theta) - T_j|^2,\n",
    "```\n",
    "that is we want to solve a **least square** problem. Typically, together with\n",
    "the previous *objective function* we have also some *constraints* on the\n",
    "parameters. For example in this case we may want to impose the constraint of\n",
    "having $\\theta > 0$.\n",
    "\n",
    "To solve these type of problems MATLAB offers a function called `fit`. Let us\n",
    "look at its usage:\n",
    "```{code} matlab\n",
    "fo = fitoptions('Method','NonlinearLeastSquares',...\n",
    "               'Lower',[0],...\n",
    "               'Upper',[Inf],...\n",
    "               'StartPoint',[1]);\n",
    "ft = fittype('60 + 70*exp(-a*x)','options',fo);\n",
    "[curve,gof] = fit(data(:,1),data(:,2),ft);\n",
    "```\n",
    "1. First we have set up some options for the `fit` function:\n",
    "- in the `'Method'` field we have selected the `'NonlinearLeastSquares'`\n",
    "  options. This tells MATLAB that we want to solve the problem in the\n",
    "  mathematical formulation given above.\n",
    "- The `'Lower'` and `'Upper'` keywords denote the bound on the parameters in\n",
    "  the order in which they appear in the model. In our case we have just one\n",
    "  parameter $\\theta$ so we request that `0 \\leq \\theta \\leq \\infty`, that is\n",
    "  $\\theta \\geq 0$.\n",
    "- Finally, with the keyword `'StartPoint'` we tell the algorithm what is the\n",
    "  starting point of the *iterative procedure* producing the solution. **Having\n",
    "  good starting points for the parameters could be crucial!**.\n",
    "2. Then we fix the model we want to fit, the variable is always denote as `x`\n",
    "while the other letters appearing in the expression are interpreted as\n",
    "the parameters\n",
    "3. We finally launch the *fit* operation with the command of the same name by\n",
    "passing to it the data and the model we have defined."
   ]
  },
  {
   "cell_type": "code",
   "execution_count": 1,
   "id": "58574b8a",
   "metadata": {},
   "outputs": [
    {
     "data": {
      "image/png": "[encoded data removed]",
      "text/plain": [
       "<IPython.core.display.Image object>"
      ]
     },
     "metadata": {
      "filenames": {
       "image/png": "/home/cirdan/Documenti/RTDa-PISA/Didattica/NumRecipes/recipesforenvsciences/src/_build/jupyter_execute/parameterfitting_1_0.png"
      }
     },
     "output_type": "display_data"
    }
   ],
   "source": [
    "data = [ 4 126 % Time (min) and Temperature (°F)\n",
    "  5 125\n",
    "  7 123\n",
    "  12 120\n",
    "  14 119\n",
    "  16 118\n",
    "  20 116\n",
    "  24 115\n",
    "  28 114\n",
    "  31 113\n",
    "  34 112\n",
    "  37.5 111\n",
    "  41 110\n",
    "];\n",
    "fo = fitoptions('Method','NonlinearLeastSquares',...\n",
    "               'Lower',[0],...\n",
    "               'Upper',[Inf],...\n",
    "               'StartPoint',[1]);\n",
    "ft = fittype('60 + 70*exp(-a*x)','options',fo);\n",
    "[curve,gof] = fit(data(:,1),data(:,2),ft);\n",
    "% We plot the results\n",
    "figure(1)\n",
    "plot(curve,data(:,1),data(:,2))\n",
    "xlabel('Time (m)');\n",
    "ylabel('Temperature (°F)');"
   ]
  },
  {
   "cell_type": "markdown",
   "id": "215cb78c",
   "metadata": {},
   "source": [
    "The other information we can extract from the fit are contained in the two\n",
    "outputs of the `fit` function, namely:"
   ]
  },
  {
   "cell_type": "code",
   "execution_count": 2,
   "id": "71b4cf3d",
   "metadata": {},
   "outputs": [
    {
     "name": "stdout",
     "output_type": "stream",
     "text": [
      "     General model:\n",
      "     curve(x) = 60 + 70*exp(-a*x)\n"
     ]
    },
    {
     "name": "stdout",
     "output_type": "stream",
     "text": [
      "     Coefficients (with 95% confidence bounds):\n",
      "       a =    0.009416  (0.0085, 0.01033)\n"
     ]
    },
    {
     "name": "stdout",
     "output_type": "stream",
     "text": [
      "           sse: 44.1558\n",
      "       rsquare: 0.8682\n",
      "           dfe: 12\n",
      "    adjrsquare: 0.8682\n",
      "          rmse: 1.9182\n",
      "\n"
     ]
    }
   ],
   "source": [
    "disp(curve)\n",
    "disp(gof)"
   ]
  },
  {
   "cell_type": "markdown",
   "id": "0ee84b5b",
   "metadata": {},
   "source": [
    "## Bibliography\n",
    "\n",
    "```{bibliography}\n",
    ":filter: docname in docnames\n",
    "```"
   ]
  }
 ],
 "metadata": {
  "jupytext": {
   "formats": "md:myst",
   "text_representation": {
    "extension": ".md",
    "format_name": "myst"
   }
  },
  "kernelspec": {
   "display_name": "Matlab",
   "language": "Matlab",
   "name": "matlab"
  },
  "language_info": {
   "codemirror_mode": "octave",
   "file_extension": ".m",
   "help_links": [
    {
     "text": "MetaKernel Magics",
     "url": "https://metakernel.readthedocs.io/en/latest/source/README.html"
    }
   ],
   "mimetype": "text/x-octave",
   "name": "matlab",
   "version": "0.16.11"
  },
  "source_map": [
   11,
   116,
   142,
   145,
   148
  ]
 },
 "nbformat": 4,
 "nbformat_minor": 5
}